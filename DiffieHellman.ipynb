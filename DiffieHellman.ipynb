{
 "cells": [
  {
   "cell_type": "markdown",
   "metadata": {},
   "source": [
    "Initialising Variables :\n",
    "\n",
    "- The use of SystemRandom is to ensure cryptographic security in the creation of random numbers\n",
    "- We compute n a very large number\n",
    "- We compute g a relatively small prime number\n",
    "\n",
    "\n"
   ]
  },
  {
   "cell_type": "code",
   "execution_count": 16,
   "metadata": {},
   "outputs": [
    {
     "name": "stdout",
     "output_type": "stream",
     "text": [
      "g: 3\n",
      "n: 124122046724326\n",
      "Alice: 9390\n",
      "Bob: 6465\n"
     ]
    }
   ],
   "source": [
    "\n",
    "import random\n",
    "\n",
    "#Values for generating random Primes\n",
    "p = 1\n",
    "q = random.SystemRandom().randint(0, 200)\n",
    "\n",
    "#Value n to be used as modulo for the key exchange\n",
    "n = random.SystemRandom().randint(0, 200*10**12)\n",
    "\n",
    "alice_number = random.SystemRandom().randint(1, 10000) #private number for Alice\n",
    "bob_number = random.SystemRandom().randint(1, 10000) #private number for Bob\n",
    "\n",
    "def isPrime(n):\n",
    "    \n",
    "    '''Checks if a number n is Prime\n",
    "    Input: int;\n",
    "    Output: Boolean;\n",
    "    '''\n",
    "    flag = True\n",
    "    for i in range(2, n):\n",
    "        if (n % i) == 0:\n",
    "            return False\n",
    "        \n",
    "    return flag\n",
    "\n",
    "primes = [i for i in range(p,q) if isPrime(i)]\n",
    "g = random.choice(primes)\n",
    "\n",
    "print('g:', g)\n",
    "print('n:', n)\n",
    "print('Alice:', alice_number)\n",
    "print('Bob:', bob_number)\n"
   ]
  },
  {
   "cell_type": "markdown",
   "metadata": {},
   "source": [
    "First Step of the Key exchange: \n",
    "\n",
    "Bob and Alice raise public number g to their private number ( a or b) modulo n\n",
    "\n",
    "This is number is then sent publicly --> g^a modulo n   | or |   g^b modulo n"
   ]
  },
  {
   "cell_type": "code",
   "execution_count": 17,
   "metadata": {},
   "outputs": [
    {
     "name": "stdout",
     "output_type": "stream",
     "text": [
      "50289374031721\n"
     ]
    }
   ],
   "source": [
    "\n",
    "B_new_number = (g)**bob_number % n\n",
    "A_new_number = ((g)**alice_number) % n\n"
   ]
  },
  {
   "cell_type": "markdown",
   "metadata": {},
   "source": [
    "Second Step of the Diffie Hellman Key Exchange:\n",
    "\n",
    "            The previously shared number is now received by Alice and Bob, they each then raise this to their private number modulo n:\n",
    "\n",
    "            for Alice: B^a modulo n \n",
    "            for Bob:   A^b modulo n\n",
    "            "
   ]
  },
  {
   "cell_type": "code",
   "execution_count": 18,
   "metadata": {},
   "outputs": [],
   "source": [
    "\n",
    "A_second_number = ((B_new_number)**alice_number) % n\n",
    "B_second_number = ((A_new_number)**bob_number) % n"
   ]
  },
  {
   "cell_type": "markdown",
   "metadata": {},
   "source": [
    "Notice at this point, Alice ends up with:\n",
    "\n",
    "        - (g^b modulo n) ^ a modulo n\n",
    "And Bob ends up with:\n",
    "\n",
    "        - (g^a modulo n)^ b modulo n\n",
    "\n",
    "By the rules of exponents this gives:\n",
    "\n",
    "        - g^(b*a) modulo n <=> g^(a*b) modulo n --> These are equivalent, we have succesfully generated two identical keys\n",
    "\n",
    "If Eve was listening in to the conversation she would have:\n",
    "\n",
    "        - g\n",
    "        - n\n",
    "        - g^a modulo n\n",
    "        - g^b modulo n\n",
    "    if she tries to do: (g^b modulo n) x (g^a modulo n) ==> g^a+b modulo n\n",
    "\n",
    "    So Eve can't find the key with out brute forcing every value , this is called the discrete logarithm problem and as far as we know is impossible to solve in any better way than brute force\n",
    "    "
   ]
  },
  {
   "cell_type": "markdown",
   "metadata": {},
   "source": [
    "Function Checks wether the Diffie Hellman key Exchange was succesful"
   ]
  },
  {
   "cell_type": "code",
   "execution_count": 19,
   "metadata": {},
   "outputs": [
    {
     "data": {
      "text/plain": [
       "True"
      ]
     },
     "execution_count": 19,
     "metadata": {},
     "output_type": "execute_result"
    }
   ],
   "source": [
    "def Check(a, b):\n",
    "    '''Function checks equality\n",
    "    input: a (int) , b(int)\n",
    "    Output: Boolean'''\n",
    "    return a == b\n",
    "\n",
    "Check(A_second_number, B_second_number)"
   ]
  },
  {
   "cell_type": "markdown",
   "metadata": {},
   "source": [
    "A complete function for Diffie Hellman Key Exchange ( OOP approach)"
   ]
  },
  {
   "cell_type": "code",
   "execution_count": null,
   "metadata": {},
   "outputs": [],
   "source": [
    "class Alice(object):\n",
    "    def __init__(self, T1, key):\n",
    "        self.number = random.SystemRandom().randint(1, 10000) #private number for Alice\n",
    "        self.T1 = T1\n",
    "        self.key = key\n",
    "\n",
    "class Bob(object):\n",
    "    def __init__(self):\n",
    "        self.number =  random.SystemRandom().randint(1, 10000) #private number for Bob\n",
    "        \n",
    "class DH():\n",
    "    def __init__(self, emitter, receiver, g, n):\n",
    "        self.emitter = emitter\n",
    "        self.receiver = receiver\n",
    "        \n",
    "    \n",
    "    def firstTransform(self):\n",
    "        T1 = (self.g)**self.emitter.number % self.n\n",
    "\n",
    "        \n",
    "    \n",
    "\n",
    "\n",
    "        \n",
    "        "
   ]
  },
  {
   "cell_type": "markdown",
   "metadata": {},
   "source": [
    "Functional approach to Diffie Hellman"
   ]
  },
  {
   "cell_type": "code",
   "execution_count": 2,
   "metadata": {},
   "outputs": [
    {
     "data": {
      "text/plain": [
       "72380519597639"
      ]
     },
     "execution_count": 2,
     "metadata": {},
     "output_type": "execute_result"
    }
   ],
   "source": [
    "import random\n",
    "\n",
    "\n",
    "def isPrime(n):\n",
    "    \n",
    "    '''Checks if a number n is Prime\n",
    "    Input: int;\n",
    "    Output: Boolean;\n",
    "    '''\n",
    "    flag = True\n",
    "    for i in range(2, n):\n",
    "        if (n % i) == 0:\n",
    "            return False\n",
    "        \n",
    "    return flag\n",
    "\n",
    "#Values for generating random Primes\n",
    "p = 1\n",
    "q = random.SystemRandom().randint(0, 200)\n",
    "\n",
    "#Value n to be used as modulo for the key exchange\n",
    "n = random.SystemRandom().randint(0, 200*10**12)\n",
    "primes = [i for i in range(p,q) if isPrime(i)]\n",
    "g = random.choice(primes)\n",
    "\n",
    "\n",
    "alice_number = random.SystemRandom().randint(1, 10000) #private number for Alice\n",
    "bob_number = random.SystemRandom().randint(1, 10000) #private number for Bob\n",
    "\n",
    "def DiffieHellman(a, b, g, n):\n",
    "    B_T1 = ((g)**b) % n\n",
    "    A_T1 = ((g)**a) % n\n",
    "    A_T2 = ((B_T1)**a) % n\n",
    "    B_T2 = ((A_T1)**b) % n\n",
    "    if A_T2 == B_T2:\n",
    "        key = A_T2\n",
    "        return key\n",
    "\n",
    "DiffieHellman(alice_number, bob_number, g, n)\n",
    "\n",
    "        \n",
    "    \n",
    "    "
   ]
  }
 ],
 "metadata": {
  "interpreter": {
   "hash": "0f254b7b2dd3630052cfaf9df2411a3714b87932802b9558704846723c0a7ab8"
  },
  "kernelspec": {
   "display_name": "Python 3.10.4 64-bit",
   "language": "python",
   "name": "python3"
  },
  "language_info": {
   "codemirror_mode": {
    "name": "ipython",
    "version": 3
   },
   "file_extension": ".py",
   "mimetype": "text/x-python",
   "name": "python",
   "nbconvert_exporter": "python",
   "pygments_lexer": "ipython3",
   "version": "3.10.4"
  },
  "orig_nbformat": 4
 },
 "nbformat": 4,
 "nbformat_minor": 2
}
